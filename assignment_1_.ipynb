{
  "nbformat": 4,
  "nbformat_minor": 0,
  "metadata": {
    "colab": {
      "provenance": []
    },
    "kernelspec": {
      "name": "python3",
      "display_name": "Python 3"
    },
    "language_info": {
      "name": "python"
    }
  },
  "cells": [
    {
      "cell_type": "code",
      "execution_count": null,
      "metadata": {
        "id": "oQ92e7n1YI4N"
      },
      "outputs": [],
      "source": [
        "# assignment 1"
      ]
    },
    {
      "cell_type": "markdown",
      "source": [
        "create two different example for each collection datatypes in **python**"
      ],
      "metadata": {
        "id": "1HbGekIgYggc"
      }
    },
    {
      "cell_type": "markdown",
      "source": [
        "list"
      ],
      "metadata": {
        "id": "Kk684-y9YiDa"
      }
    },
    {
      "cell_type": "code",
      "source": [
        "#example 1\n",
        "# Creating a list of integers\n",
        "numbers = [1, 2, 3, 4, 5]\n",
        "\n",
        "# Accessing an element in the list\n",
        "print(numbers[2]) \n",
        "\n",
        "# Adding an element to the list\n",
        "numbers.append(6)\n",
        "print(numbers) \n",
        "\n",
        "# Removing an element from the list\n",
        "numbers.remove(3)\n",
        "print(numbers)"
      ],
      "metadata": {
        "colab": {
          "base_uri": "https://localhost:8080/"
        },
        "id": "j3SXo3VtYmQJ",
        "outputId": "04793f5d-6a89-4d58-a21e-075bb5f50292"
      },
      "execution_count": null,
      "outputs": [
        {
          "output_type": "stream",
          "name": "stdout",
          "text": [
            "3\n",
            "[1, 2, 3, 4, 5, 6]\n",
            "[1, 2, 4, 5, 6]\n"
          ]
        }
      ]
    },
    {
      "cell_type": "code",
      "source": [
        "# example 2\n",
        "# Creating a list of strings\n",
        "fruits = [\"apple\", \"banana\", \"orange\", \"kiwi\"]\n",
        "\n",
        "# Looping through the list\n",
        "for fruit in fruits:\n",
        "    print(fruit)\n",
        "# Checking if an element exists in the list\n",
        "if \"pear\" in fruits:\n",
        "    print(\"Found pear!\")\n",
        "else:\n",
        "    print(\"No pear found.\")\n"
      ],
      "metadata": {
        "colab": {
          "base_uri": "https://localhost:8080/"
        },
        "id": "AlOPGJ0MY1qK",
        "outputId": "da79e006-0eb5-493f-a463-ffe94d625fa6"
      },
      "execution_count": null,
      "outputs": [
        {
          "output_type": "stream",
          "name": "stdout",
          "text": [
            "apple\n",
            "banana\n",
            "orange\n",
            "kiwi\n",
            "No pear found.\n"
          ]
        }
      ]
    },
    {
      "cell_type": "markdown",
      "source": [
        "**Tuples**"
      ],
      "metadata": {
        "id": "Rk2od1KlZIwl"
      }
    },
    {
      "cell_type": "code",
      "source": [
        "# example 1\n",
        "# Creating a tuple of coordinates\n",
        "coordinates = (4.5, -3.2)\n",
        "\n",
        "# Unpacking the tuple into variables\n",
        "x, y = coordinates\n",
        "\n",
        "# Printing the variables\n",
        "print(\"x-coordinate: \", x)\n",
        "print(\"y-coordinate: \", y)\n",
        "\n"
      ],
      "metadata": {
        "colab": {
          "base_uri": "https://localhost:8080/"
        },
        "id": "F2krGTfdZLUa",
        "outputId": "e00c34a7-3246-4693-ba93-c3bbf502e40d"
      },
      "execution_count": null,
      "outputs": [
        {
          "output_type": "stream",
          "name": "stdout",
          "text": [
            "x-coordinate:  4.5\n",
            "y-coordinate:  -3.2\n"
          ]
        }
      ]
    },
    {
      "cell_type": "code",
      "source": [
        "# example 2\n",
        "# Creating a tuple of weekdays\n",
        "weekdays = (\"Monday\", \"Tuesday\", \"Wednesday\", \"Thursday\", \"Friday\")\n",
        "\n",
        "# Printing the tuple\n",
        "print(\"Weekdays: \", weekdays)\n",
        "\n",
        "# Slicing the tuple to get the first three weekdays\n",
        "first_three_weekdays = weekdays[:3]\n",
        "\n",
        "# Printing the sliced tuple\n",
        "print(\"First three weekdays: \", first_three_weekdays)\n",
        "\n",
        "# Concatenating two tuples\n",
        "weekends = (\"Saturday\", \"Sunday\")\n",
        "all_days = weekdays + weekends\n",
        "\n",
        "# Printing the concatenated tuple\n",
        "print(\"All days: \", all_days)\n",
        "\n",
        "\n"
      ],
      "metadata": {
        "colab": {
          "base_uri": "https://localhost:8080/"
        },
        "id": "Hp-mjXyFZ1Sr",
        "outputId": "5c2a89d4-375c-4903-c7ad-89474143c2db"
      },
      "execution_count": null,
      "outputs": [
        {
          "output_type": "stream",
          "name": "stdout",
          "text": [
            "Weekdays:  ('Monday', 'Tuesday', 'Wednesday', 'Thursday', 'Friday')\n",
            "First three weekdays:  ('Monday', 'Tuesday', 'Wednesday')\n",
            "All days:  ('Monday', 'Tuesday', 'Wednesday', 'Thursday', 'Friday', 'Saturday', 'Sunday')\n",
            "Weekdays:  ('Monday', 'Tuesday', 'Wednesday', 'Thursday', 'Friday')\n",
            "First three weekdays:  ('Monday', 'Tuesday', 'Wednesday')\n",
            "All days:  ('Monday', 'Tuesday', 'Wednesday', 'Thursday', 'Friday', 'Saturday', 'Sunday')\n"
          ]
        }
      ]
    },
    {
      "cell_type": "markdown",
      "source": [
        "**sets**"
      ],
      "metadata": {
        "id": "WZDsnuDWaHj-"
      }
    },
    {
      "cell_type": "code",
      "source": [
        "# example 1\n",
        "# Creating a set of integers\n",
        "numbers = {1, 2, 3, 4, 5}\n",
        "\n",
        "# Adding an element to the set\n",
        "numbers.add(6)\n",
        "print(numbers) \n",
        "# Removing an element from the set\n",
        "numbers.remove(3)\n",
        "print(numbers)"
      ],
      "metadata": {
        "colab": {
          "base_uri": "https://localhost:8080/"
        },
        "id": "J0yy5pd7aMo7",
        "outputId": "a3dd1058-2e1b-4e3f-c13d-6cb2566f420e"
      },
      "execution_count": null,
      "outputs": [
        {
          "output_type": "stream",
          "name": "stdout",
          "text": [
            "{1, 2, 3, 4, 5, 6}\n",
            "{1, 2, 4, 5, 6}\n"
          ]
        }
      ]
    },
    {
      "cell_type": "code",
      "source": [
        "# example 2\n",
        "# Creating two sets of numbers\n",
        "set1 = {1, 2, 3, 4, 5}\n",
        "set2 = {4, 5, 6, 7, 8}\n",
        "\n",
        "# Performing set operations on the two sets\n",
        "union = set1.union(set2)\n",
        "intersection = set1.intersection(set2)\n",
        "difference = set1.difference(set2)\n",
        "\n",
        "# Printing out the results\n",
        "print(\"Union: \", union)\n",
        "print(\"Intersection: \", intersection)\n",
        "print(\"Set1 - Set2: \", difference)"
      ],
      "metadata": {
        "colab": {
          "base_uri": "https://localhost:8080/"
        },
        "id": "MrdOsWomaRQs",
        "outputId": "d19fc751-5105-4780-a578-f5f3163d375c"
      },
      "execution_count": null,
      "outputs": [
        {
          "output_type": "stream",
          "name": "stdout",
          "text": [
            "Union:  {1, 2, 3, 4, 5, 6, 7, 8}\n",
            "Intersection:  {4, 5}\n",
            "Set1 - Set2:  {1, 2, 3}\n"
          ]
        }
      ]
    },
    {
      "cell_type": "markdown",
      "source": [
        "**Dictionaries**"
      ],
      "metadata": {
        "id": "hp0sz8LDcFfp"
      }
    },
    {
      "cell_type": "code",
      "source": [
        "# example1\n",
        "# Creating a dictionary of key-value pairs\n",
        "student = {\"name\": \"John\", \"age\": 18, \"grades\": [80, 90, 85]}\n",
        "\n",
        "# Accessing a value by key\n",
        "print(student[\"name\"])  \n",
        "\n",
        "# Adding a new key-value pair\n",
        "student[\"gender\"] = \"Male\"\n",
        "print(student) "
      ],
      "metadata": {
        "colab": {
          "base_uri": "https://localhost:8080/"
        },
        "id": "VJsVyacKcIWa",
        "outputId": "46c7a43a-d32f-47a2-883a-648ce4e9611e"
      },
      "execution_count": null,
      "outputs": [
        {
          "output_type": "stream",
          "name": "stdout",
          "text": [
            "John\n",
            "{'name': 'John', 'age': 18, 'grades': [80, 90, 85], 'gender': 'Male'}\n"
          ]
        }
      ]
    },
    {
      "cell_type": "code",
      "source": [
        "# example 2\n",
        "# Creating a dictionary of book titles and their authors\n",
        "books = {\"The Great Gatsby\": \"F. Scott Fitzgerald\", \n",
        "         \"To Kill a Mockingbird\": \"Harper Lee\", \n",
        "         \"1984\": \"George Orwell\"}\n",
        "\n",
        "# Looping through the dictionary\n",
        "for book in books:\n",
        "    print(book + \" was written by \" + books[book])\n",
        "\n",
        "\n",
        "\n",
        "# Checking if a key exists in the dictionary\n",
        "if \"Animal Farm\" in books:\n",
        "    print(\"Found Animal Farm!\")\n",
        "else:\n",
        "    print(\"No Animal Farm found.\")\n",
        "\n",
        "\n"
      ],
      "metadata": {
        "colab": {
          "base_uri": "https://localhost:8080/"
        },
        "id": "pvYfG3eEcPTi",
        "outputId": "6e08fb92-d888-44f6-fe79-89af8b9c6096"
      },
      "execution_count": null,
      "outputs": [
        {
          "output_type": "stream",
          "name": "stdout",
          "text": [
            "The Great Gatsby was written by F. Scott Fitzgerald\n",
            "To Kill a Mockingbird was written by Harper Lee\n",
            "1984 was written by George Orwell\n",
            "No Animal Farm found.\n"
          ]
        }
      ]
    }
  ]
}