{
  "nbformat": 4,
  "nbformat_minor": 0,
  "metadata": {
    "colab": {
      "provenance": []
    },
    "kernelspec": {
      "name": "python3",
      "display_name": "Python 3"
    },
    "language_info": {
      "name": "python"
    }
  },
  "cells": [
    {
      "cell_type": "code",
      "execution_count": null,
      "metadata": {
        "colab": {
          "base_uri": "https://localhost:8080/"
        },
        "id": "DmGV_uTLhvZA",
        "outputId": "bfd87820-d3b8-49ef-e431-38dbd1cabff4"
      },
      "outputs": [
        {
          "output_type": "stream",
          "name": "stdout",
          "text": [
            "Contents of file: Hello, world!\n",
            "New contents of file: Goodbye, world!\n",
            "This is a new line!\n"
          ]
        }
      ],
      "source": [
        "# Open a file in write mode\n",
        "file = open(\"test.txt\", \"w\")\n",
        "file.write(\"Hello, world!\")\n",
        "file.close()\n",
        "\n",
        "# Open the same file in read-write mode and read the contents\n",
        "file = open(\"test.txt\", \"r+\")\n",
        "contents = file.read()\n",
        "print(\"Contents of file:\", contents)\n",
        "\n",
        "# Overwrite the contents of the file\n",
        "file.seek(0)\n",
        "file.write(\"Goodbye, world!\")\n",
        "file.close()\n",
        "\n",
        "# Open the same file in append mode and add new contents\n",
        "file = open(\"test.txt\", \"a+\")\n",
        "file.write(\"\\nThis is a new line!\")\n",
        "file.seek(0)\n",
        "new_contents = file.read()\n",
        "print(\"New contents of file:\", new_contents)\n",
        "\n"
      ]
    }
  ]
}